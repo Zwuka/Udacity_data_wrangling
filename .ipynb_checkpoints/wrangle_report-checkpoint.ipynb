{
 "cells": [
  {
   "cell_type": "markdown",
   "metadata": {
    "collapsed": true,
    "pycharm": {
     "name": "#%% md\n"
    }
   },
   "source": [
    "## Data wrangle assessment\n",
    "All this work was done for educational purposes. So through it, I consolidate my data skills, which include gathering, assessing, and cleaning data. All data is provided by Udacity, some of this data was downloaded from the site manually, the other using the python 'requests' package. Also, I had to try to get some data from Twitter using the API, but I am having trouble registering for a developer account. So I downloaded this data from Udacity too.\n",
    "\n",
    "First of all, I did a visual assessment trying to understand what information is stored in each column, then I checked each piece of information more closely, trying to find the biases hidden in the data.\n",
    "\n",
    "As I was taught all biases should be divided in 2 big categories: quality and tidiness issues.\n",
    "\n",
    "So what i found using visual and programming assessments:\n",
    "<b>Tidiness:</b>\n",
    "- provided data twit archive:\n",
    "   - source column do not have any meaningful information, or I don't understand it purpose, so i should remove those column\n",
    "   - after cleaning rows with retweets and reply tweets i plan to remove corresponding columns\n",
    "\n",
    "- provided image prediction data:\n",
    "   - make 2 columns dog's breed and confident coefficient and merge them with master data frame\n",
    "\n",
    "<b>Quality:</b>\n",
    "- provided image prediction data:\n",
    "    - all breed's should be lowercase\n",
    "\n",
    "- provided data twit archive:\n",
    "    - timestamp should be converted to date-time from string\n",
    "    - timestamp should be converted to date-time from string\n",
    "    - tweets with 'We only rate dogs.' 'We don't rate...' and etc. should be cleaned in case\n",
    "    - 'None' information in 'name', 'doggo','floofer','pupper','puppo' columns should be converted to NaN\n",
    "    - check for correct extraction of doggo, floofer, pupper and etc\n",
    "    - make one column for all stages\n",
    "    - flaws in 'name' column with rows that have 'a' and all name that start from little letter. Remove those type of names\n",
    "    - extract correct ratings, and try to figure out what to do with outliers\n",
    "\n",
    "while fixing those issues and making one master data frame i mostly use programmatic cleaning techniques, but some information was just imputed in data frame (when i working with three rating outliers (I decided to change those ratings to 17, it's not the best decision, maybe i just should remove them, but it's what done)).\n",
    "\n",
    "Also questionable decision it's extracting data from strings without regular expressions, but mostly those type of extraction are really difficult to maintain, so i used standard string methods.\n",
    "\n",
    "Finally I make one master data frame from what i could easily extract all information. What I founded explained in act-report document.\n"
   ]
  },
  {
   "cell_type": "code",
   "execution_count": null,
   "outputs": [],
   "source": [],
   "metadata": {
    "collapsed": false,
    "pycharm": {
     "name": "#%%\n"
    }
   }
  }
 ],
 "metadata": {
  "kernelspec": {
   "display_name": "Python 3",
   "language": "python",
   "name": "python3"
  },
  "language_info": {
   "codemirror_mode": {
    "name": "ipython",
    "version": 2
   },
   "file_extension": ".py",
   "mimetype": "text/x-python",
   "name": "python",
   "nbconvert_exporter": "python",
   "pygments_lexer": "ipython2",
   "version": "2.7.6"
  }
 },
 "nbformat": 4,
 "nbformat_minor": 0
}